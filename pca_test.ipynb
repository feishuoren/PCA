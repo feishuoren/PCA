{
 "cells": [
  {
   "cell_type": "code",
   "execution_count": null,
   "metadata": {},
   "outputs": [],
   "source": [
    "# from sklearn.decomposition import PCA\n",
    "# pca = PCA(.95) # 方差95%\n",
    "# pca.fit(train_data)"
   ]
  },
  {
   "cell_type": "code",
   "execution_count": 8,
   "metadata": {},
   "outputs": [],
   "source": [
    "import numpy as np\n",
    "# 区别：PCA选择样本点投影具有最大方差的方向，LDA选择分类性能最好的方向。\n",
    "data = np.array([[1,4,6,3,6],[5,3,6,2,6],[6,4,8,9,5],[2,5,7,8,3]])"
   ]
  },
  {
   "cell_type": "code",
   "execution_count": 9,
   "metadata": {},
   "outputs": [
    {
     "data": {
      "text/plain": [
       "array([[1, 4, 6, 3, 6],\n",
       "       [5, 3, 6, 2, 6],\n",
       "       [6, 4, 8, 9, 5],\n",
       "       [2, 5, 7, 8, 3]])"
      ]
     },
     "execution_count": 9,
     "metadata": {},
     "output_type": "execute_result"
    }
   ],
   "source": [
    "data"
   ]
  },
  {
   "cell_type": "code",
   "execution_count": 14,
   "metadata": {},
   "outputs": [],
   "source": [
    "# 按列均值\n",
    "average = np.mean(data,axis=0) "
   ]
  },
  {
   "cell_type": "code",
   "execution_count": 13,
   "metadata": {},
   "outputs": [
    {
     "data": {
      "text/plain": [
       "array([3.5 , 4.  , 6.75, 5.5 , 5.  ])"
      ]
     },
     "execution_count": 13,
     "metadata": {},
     "output_type": "execute_result"
    }
   ],
   "source": [
    "average"
   ]
  },
  {
   "cell_type": "code",
   "execution_count": 15,
   "metadata": {},
   "outputs": [],
   "source": [
    "m,n = np.shape(data)"
   ]
  },
  {
   "cell_type": "code",
   "execution_count": 16,
   "metadata": {},
   "outputs": [],
   "source": [
    "avgs = np.tile(average, (m, 1)) # 复制average 行方向m倍，列方向1倍"
   ]
  },
  {
   "cell_type": "code",
   "execution_count": 17,
   "metadata": {},
   "outputs": [
    {
     "data": {
      "text/plain": [
       "array([[3.5 , 4.  , 6.75, 5.5 , 5.  ],\n",
       "       [3.5 , 4.  , 6.75, 5.5 , 5.  ],\n",
       "       [3.5 , 4.  , 6.75, 5.5 , 5.  ],\n",
       "       [3.5 , 4.  , 6.75, 5.5 , 5.  ]])"
      ]
     },
     "execution_count": 17,
     "metadata": {},
     "output_type": "execute_result"
    }
   ],
   "source": [
    "avgs"
   ]
  },
  {
   "cell_type": "code",
   "execution_count": 18,
   "metadata": {},
   "outputs": [],
   "source": [
    "data_dif = data - avgs"
   ]
  },
  {
   "cell_type": "code",
   "execution_count": 19,
   "metadata": {},
   "outputs": [
    {
     "data": {
      "text/plain": [
       "array([[-2.5 ,  0.  , -0.75, -2.5 ,  1.  ],\n",
       "       [ 1.5 , -1.  , -0.75, -3.5 ,  1.  ],\n",
       "       [ 2.5 ,  0.  ,  1.25,  3.5 ,  0.  ],\n",
       "       [-1.5 ,  1.  ,  0.25,  2.5 , -2.  ]])"
      ]
     },
     "execution_count": 19,
     "metadata": {},
     "output_type": "execute_result"
    }
   ],
   "source": [
    "data_dif"
   ]
  },
  {
   "cell_type": "code",
   "execution_count": 22,
   "metadata": {},
   "outputs": [],
   "source": [
    "covs = np.cov(data_dif.T) # 计算协方差矩阵"
   ]
  },
  {
   "cell_type": "code",
   "execution_count": 23,
   "metadata": {},
   "outputs": [
    {
     "data": {
      "text/plain": [
       "array([[ 5.66666667, -1.        ,  1.16666667,  2.        ,  0.66666667],\n",
       "       [-1.        ,  0.66666667,  0.33333333,  2.        , -1.        ],\n",
       "       [ 1.16666667,  0.33333333,  0.91666667,  3.16666667, -0.66666667],\n",
       "       [ 2.        ,  2.        ,  3.16666667, 12.33333333, -3.66666667],\n",
       "       [ 0.66666667, -1.        , -0.66666667, -3.66666667,  2.        ]])"
      ]
     },
     "execution_count": 23,
     "metadata": {},
     "output_type": "execute_result"
    }
   ],
   "source": [
    "covs"
   ]
  },
  {
   "cell_type": "code",
   "execution_count": 24,
   "metadata": {},
   "outputs": [],
   "source": [
    "featureValue,featureVec = np.linalg.eig(covs) # 协方差矩阵的特征值，特征向量"
   ]
  },
  {
   "cell_type": "code",
   "execution_count": 25,
   "metadata": {},
   "outputs": [
    {
     "data": {
      "text/plain": [
       "array([ 1.49709650e+01,  6.06137126e+00,  5.50997115e-01, -2.64390224e-16,\n",
       "       -3.77803950e-17])"
      ]
     },
     "execution_count": 25,
     "metadata": {},
     "output_type": "execute_result"
    }
   ],
   "source": [
    "featureValue"
   ]
  },
  {
   "cell_type": "code",
   "execution_count": 26,
   "metadata": {},
   "outputs": [
    {
     "data": {
      "text/plain": [
       "array([[-1.89872377e-01,  9.15782484e-01, -2.81059827e-01,\n",
       "        -1.17623816e-01,  8.55763142e-05],\n",
       "       [-1.37404472e-01, -2.51484791e-01, -3.47670039e-02,\n",
       "        -2.29226488e-01,  3.16587162e-01],\n",
       "       [-2.35480932e-01,  9.61491133e-02,  2.35168192e-01,\n",
       "         9.10800202e-01,  8.85314445e-01],\n",
       "       [-9.04162442e-01, -9.52492356e-02,  2.67518243e-01,\n",
       "        -2.41268775e-01, -3.16244856e-01],\n",
       "       [ 2.68528400e-01,  2.82454905e-01,  8.90464227e-01,\n",
       "        -2.14131326e-01, -1.26412366e-01]])"
      ]
     },
     "execution_count": 26,
     "metadata": {},
     "output_type": "execute_result"
    }
   ],
   "source": [
    "featureVec"
   ]
  },
  {
   "cell_type": "code",
   "execution_count": 38,
   "metadata": {},
   "outputs": [],
   "source": [
    "featureVal = np.argsort(-featureValue) # 从大到小的特征值列数"
   ]
  },
  {
   "cell_type": "code",
   "execution_count": 39,
   "metadata": {},
   "outputs": [
    {
     "data": {
      "text/plain": [
       "array([0, 1, 2, 4, 3])"
      ]
     },
     "execution_count": 39,
     "metadata": {},
     "output_type": "execute_result"
    }
   ],
   "source": [
    "featureVal"
   ]
  },
  {
   "cell_type": "code",
   "execution_count": 49,
   "metadata": {},
   "outputs": [],
   "source": [
    "# 保留k维度 最大k个特征值对应的列特征向量\n",
    "k = 2\n",
    "selectVec = featureVec.T[featureVal[:k]]\n",
    "# featureVec[[0,1]]"
   ]
  },
  {
   "cell_type": "code",
   "execution_count": 55,
   "metadata": {},
   "outputs": [
    {
     "data": {
      "text/plain": [
       "array([[-2.5 ,  0.  , -0.75, -2.5 ,  1.  ],\n",
       "       [ 1.5 , -1.  , -0.75, -3.5 ,  1.  ],\n",
       "       [ 2.5 ,  0.  ,  1.25,  3.5 ,  0.  ],\n",
       "       [-1.5 ,  1.  ,  0.25,  2.5 , -2.  ]])"
      ]
     },
     "execution_count": 55,
     "metadata": {},
     "output_type": "execute_result"
    }
   ],
   "source": [
    "data_dif"
   ]
  },
  {
   "cell_type": "code",
   "execution_count": 57,
   "metadata": {},
   "outputs": [
    {
     "data": {
      "text/plain": [
       "array([[-0.18987238,  0.91578248],\n",
       "       [-0.13740447, -0.25148479],\n",
       "       [-0.23548093,  0.09614911],\n",
       "       [-0.90416244, -0.09524924],\n",
       "       [ 0.2685284 ,  0.28245491]])"
      ]
     },
     "execution_count": 57,
     "metadata": {},
     "output_type": "execute_result"
    }
   ],
   "source": [
    "selectVec.T"
   ]
  },
  {
   "cell_type": "code",
   "execution_count": 67,
   "metadata": {},
   "outputs": [],
   "source": [
    "# finalData：低维特征矩阵\n",
    "# reconData：移动坐标轴后的矩阵，样本均值向量\n",
    "    f_data = np.dot(data_dif,selectVec.T)\n",
    "recon_data = np.dot(data_dif,np.dot(selectVec.T,selectVec)) + average"
   ]
  },
  {
   "cell_type": "code",
   "execution_count": 68,
   "metadata": {},
   "outputs": [
    {
     "data": {
      "text/plain": [
       "array([[ 3.18022615, -1.84099005],\n",
       "       [ 3.46230355,  2.16887391],\n",
       "       [-3.93360065,  2.07627028],\n",
       "       [-2.70892904, -2.40415414]])"
      ]
     },
     "execution_count": 68,
     "metadata": {},
     "output_type": "execute_result"
    }
   ],
   "source": [
    "f_data"
   ]
  },
  {
   "cell_type": "code",
   "execution_count": 69,
   "metadata": {},
   "outputs": [
    {
     "data": {
      "text/plain": [
       "array([[1.21021646, 4.0260037 , 5.82410782, 2.79991186, 5.33398437],\n",
       "       [4.82882093, 2.97882521, 6.14322884, 2.16293159, 6.54233591],\n",
       "       [6.14829406, 4.01834392, 7.87591949, 8.85885081, 4.53016924],\n",
       "       [1.81266855, 4.97682716, 7.15674385, 8.17830574, 3.59351049]])"
      ]
     },
     "execution_count": 69,
     "metadata": {},
     "output_type": "execute_result"
    }
   ],
   "source": [
    "recon_data"
   ]
  },
  {
   "cell_type": "code",
   "execution_count": 76,
   "metadata": {},
   "outputs": [],
   "source": [
    "import matplotlib.pyplot as plt\n",
    "def plotBestFit(data1, data2):    \n",
    "    dataArr1 = np.array(data1)\n",
    "    dataArr2 = np.array(data2)\n",
    "\n",
    "    m = np.shape(dataArr1)[0]\n",
    "    axis_x1 = []\n",
    "    axis_y1 = []\n",
    "    axis_x2 = []\n",
    "    axis_y2 = []\n",
    "    for i in range(m):\n",
    "        axis_x1.append(dataArr1[i,0])\n",
    "        axis_y1.append(dataArr1[i,1])\n",
    "        axis_x2.append(dataArr2[i,0]) \n",
    "        axis_y2.append(dataArr2[i,1])                 \n",
    "    fig = plt.figure()\n",
    "    ax = fig.add_subplot(111)\n",
    "    ax.scatter(axis_x1, axis_y1, s=50, c='red', marker='s')\n",
    "    ax.scatter(axis_x2, axis_y2, s=50, c='blue')\n",
    "    plt.xlabel('x1'); \n",
    "    plt.ylabel('x2');\n",
    "    plt.show()  "
   ]
  },
  {
   "cell_type": "code",
   "execution_count": 78,
   "metadata": {},
   "outputs": [
    {
     "data": {
      "image/png": "[encoded data removed]",
      "text/plain": [
       "<Figure size 432x288 with 1 Axes>"
      ]
     },
     "metadata": {
      "needs_background": "light"
     },
     "output_type": "display_data"
    }
   ],
   "source": [
    "plotBestFit(f_data,recon_data) # 红色特征，蓝色降维后的数据"
   ]
  },
  {
   "cell_type": "code",
   "execution_count": null,
   "metadata": {},
   "outputs": [],
   "source": [
    "# 基本步骤：\n",
    "\n",
    "# 对数据进行归一化处理（代码中并非这么做的，而是直接减去均值）\n",
    "# 计算归一化后的数据集的协方差矩阵\n",
    "# 计算协方差矩阵的特征值和特征向量\n",
    "# 保留最重要的k个特征（通常k要小于n），也可以自己制定，也可以选择一个阈值，然后通过前k个特征值之和减去后面n-k个特征值之和大于这个阈值，则选择这个k\n",
    "# 找出k个特征值对应的特征向量\n",
    "# 将m * n的数据集乘以k个n维的特征向量的特征向量（n * k）,得到最后降维的数据。"
   ]
  },
  {
   "cell_type": "code",
   "execution_count": null,
   "metadata": {},
   "outputs": [],
   "source": [
    "\n",
    "\"\"\"\n",
    "参数：\n",
    "    - XMat：传入的是一个numpy的矩阵格式，行表示样本数，列表示特征    \n",
    "    - k：表示取前k个特征值对应的特征向量\n",
    "返回值：\n",
    "    - finalData：参数一指的是返回的低维矩阵，对应于输入参数二\n",
    "    - reconData：参数二对应的是移动坐标轴后的矩阵\n",
    "\"\"\"\n",
    "def pca(XMat, k):\n",
    "    average = np.mean(XMat,axis=0)\n",
    "    m, n = np.shape(XMat)\n",
    "    data_adjust = []\n",
    "    avgs = np.tile(average, (m, 1))\n",
    "    data_adjust = XMat - avgs\n",
    "    covX = np.cov(data_adjust.T)   #计算协方差矩阵\n",
    "    featValue, featVec=  np.linalg.eig(covX)  #求解协方差矩阵的特征值和特征向量\n",
    "    index = np.argsort(-featValue) #按照featValue进行从大到小排序\n",
    "    finalData = []\n",
    "    if k > n:\n",
    "        print \"k must lower than feature number\"\n",
    "        return\n",
    "    else:\n",
    "        #注意特征向量时列向量，而numpy的二维矩阵(数组)a[m][n]中，a[1]表示第1行值\n",
    "        selectVec = np.matrix(featVec.T[index[:k]]) #所以这里需要进行转置\n",
    "        finalData = data_adjust * selectVec.T \n",
    "        reconData = (finalData * selectVec) + average  \n",
    "    return finalData, reconData\n",
    "\n",
    "# https://blog.csdn.net/Dream_angel_Z/article/details/50760130\n",
    "# https://ourarchive.otago.ac.nz/bitstream/handle/10523/7534/OUCS-2002-12.pdf"
   ]
  }
 ],
 "metadata": {
  "kernelspec": {
   "display_name": "Python 3",
   "language": "python",
   "name": "python3"
  },
  "language_info": {
   "codemirror_mode": {
    "name": "ipython",
    "version": 3
   },
   "file_extension": ".py",
   "mimetype": "text/x-python",
   "name": "python",
   "nbconvert_exporter": "python",
   "pygments_lexer": "ipython3",
   "version": "3.8.3"
  }
 },
 "nbformat": 4,
 "nbformat_minor": 4
}
